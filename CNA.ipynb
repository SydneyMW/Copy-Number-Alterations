{
  "cells": [
    {
      "cell_type": "code",
      "execution_count": null,
      "metadata": {
        "colab": {
          "base_uri": "https://localhost:8080/"
        },
        "id": "_w1p8lZKLIKw",
        "outputId": "3ab77555-2bbb-4c6a-b9ca-9e3a66ff262a"
      },
      "outputs": [
        {
          "output_type": "stream",
          "name": "stdout",
          "text": [
            "Looking in indexes: https://pypi.org/simple, https://us-python.pkg.dev/colab-wheels/public/simple/\n",
            "Requirement already satisfied: bravado in /usr/local/lib/python3.7/dist-packages (11.0.3)\n",
            "Requirement already satisfied: monotonic in /usr/local/lib/python3.7/dist-packages (from bravado) (1.6)\n",
            "Requirement already satisfied: pyyaml in /usr/local/lib/python3.7/dist-packages (from bravado) (3.13)\n",
            "Requirement already satisfied: simplejson in /usr/local/lib/python3.7/dist-packages (from bravado) (3.17.6)\n",
            "Requirement already satisfied: msgpack in /usr/local/lib/python3.7/dist-packages (from bravado) (1.0.4)\n",
            "Requirement already satisfied: requests>=2.17 in /usr/local/lib/python3.7/dist-packages (from bravado) (2.23.0)\n",
            "Requirement already satisfied: six in /usr/local/lib/python3.7/dist-packages (from bravado) (1.15.0)\n",
            "Requirement already satisfied: python-dateutil in /usr/local/lib/python3.7/dist-packages (from bravado) (2.8.2)\n",
            "Requirement already satisfied: bravado-core>=5.16.1 in /usr/local/lib/python3.7/dist-packages (from bravado) (5.17.0)\n",
            "Requirement already satisfied: typing-extensions in /usr/local/lib/python3.7/dist-packages (from bravado) (4.1.1)\n",
            "Requirement already satisfied: swagger-spec-validator>=2.0.1 in /usr/local/lib/python3.7/dist-packages (from bravado-core>=5.16.1->bravado) (2.7.4)\n",
            "Requirement already satisfied: jsonref in /usr/local/lib/python3.7/dist-packages (from bravado-core>=5.16.1->bravado) (0.2)\n",
            "Requirement already satisfied: pytz in /usr/local/lib/python3.7/dist-packages (from bravado-core>=5.16.1->bravado) (2022.1)\n",
            "Requirement already satisfied: jsonschema[format]>=2.5.1 in /usr/local/lib/python3.7/dist-packages (from bravado-core>=5.16.1->bravado) (4.3.3)\n",
            "Requirement already satisfied: attrs>=17.4.0 in /usr/local/lib/python3.7/dist-packages (from jsonschema[format]>=2.5.1->bravado-core>=5.16.1->bravado) (21.4.0)\n",
            "Requirement already satisfied: pyrsistent!=0.17.0,!=0.17.1,!=0.17.2,>=0.14.0 in /usr/local/lib/python3.7/dist-packages (from jsonschema[format]>=2.5.1->bravado-core>=5.16.1->bravado) (0.18.1)\n",
            "Requirement already satisfied: importlib-metadata in /usr/local/lib/python3.7/dist-packages (from jsonschema[format]>=2.5.1->bravado-core>=5.16.1->bravado) (4.12.0)\n",
            "Requirement already satisfied: importlib-resources>=1.4.0 in /usr/local/lib/python3.7/dist-packages (from jsonschema[format]>=2.5.1->bravado-core>=5.16.1->bravado) (5.8.0)\n",
            "Requirement already satisfied: rfc3339-validator in /usr/local/lib/python3.7/dist-packages (from jsonschema[format]>=2.5.1->bravado-core>=5.16.1->bravado) (0.1.4)\n",
            "Requirement already satisfied: rfc3987 in /usr/local/lib/python3.7/dist-packages (from jsonschema[format]>=2.5.1->bravado-core>=5.16.1->bravado) (1.3.8)\n",
            "Requirement already satisfied: isoduration in /usr/local/lib/python3.7/dist-packages (from jsonschema[format]>=2.5.1->bravado-core>=5.16.1->bravado) (20.11.0)\n",
            "Requirement already satisfied: idna in /usr/local/lib/python3.7/dist-packages (from jsonschema[format]>=2.5.1->bravado-core>=5.16.1->bravado) (2.10)\n",
            "Requirement already satisfied: fqdn in /usr/local/lib/python3.7/dist-packages (from jsonschema[format]>=2.5.1->bravado-core>=5.16.1->bravado) (1.5.1)\n",
            "Requirement already satisfied: jsonpointer>1.13 in /usr/local/lib/python3.7/dist-packages (from jsonschema[format]>=2.5.1->bravado-core>=5.16.1->bravado) (2.3)\n",
            "Requirement already satisfied: uri-template in /usr/local/lib/python3.7/dist-packages (from jsonschema[format]>=2.5.1->bravado-core>=5.16.1->bravado) (1.2.0)\n",
            "Requirement already satisfied: webcolors>=1.11 in /usr/local/lib/python3.7/dist-packages (from jsonschema[format]>=2.5.1->bravado-core>=5.16.1->bravado) (1.12)\n",
            "Requirement already satisfied: zipp>=3.1.0 in /usr/local/lib/python3.7/dist-packages (from importlib-resources>=1.4.0->jsonschema[format]>=2.5.1->bravado-core>=5.16.1->bravado) (3.8.0)\n",
            "Requirement already satisfied: chardet<4,>=3.0.2 in /usr/local/lib/python3.7/dist-packages (from requests>=2.17->bravado) (3.0.4)\n",
            "Requirement already satisfied: certifi>=2017.4.17 in /usr/local/lib/python3.7/dist-packages (from requests>=2.17->bravado) (2022.6.15)\n",
            "Requirement already satisfied: urllib3!=1.25.0,!=1.25.1,<1.26,>=1.21.1 in /usr/local/lib/python3.7/dist-packages (from requests>=2.17->bravado) (1.24.3)\n",
            "Requirement already satisfied: cached-property>=1.3.0 in /usr/local/lib/python3.7/dist-packages (from fqdn->jsonschema[format]>=2.5.1->bravado-core>=5.16.1->bravado) (1.5.2)\n",
            "Requirement already satisfied: arrow>=0.15.0 in /usr/local/lib/python3.7/dist-packages (from isoduration->jsonschema[format]>=2.5.1->bravado-core>=5.16.1->bravado) (1.2.2)\n",
            "Looking in indexes: https://pypi.org/simple, https://us-python.pkg.dev/colab-wheels/public/simple/\n",
            "Requirement already satisfied: cbio_py in /usr/local/lib/python3.7/dist-packages (0.1.2)\n",
            "Requirement already satisfied: bravado>11.0.0 in /usr/local/lib/python3.7/dist-packages (from cbio_py) (11.0.3)\n",
            "Requirement already satisfied: typing-extensions in /usr/local/lib/python3.7/dist-packages (from bravado>11.0.0->cbio_py) (4.1.1)\n",
            "Requirement already satisfied: python-dateutil in /usr/local/lib/python3.7/dist-packages (from bravado>11.0.0->cbio_py) (2.8.2)\n",
            "Requirement already satisfied: bravado-core>=5.16.1 in /usr/local/lib/python3.7/dist-packages (from bravado>11.0.0->cbio_py) (5.17.0)\n",
            "Requirement already satisfied: simplejson in /usr/local/lib/python3.7/dist-packages (from bravado>11.0.0->cbio_py) (3.17.6)\n",
            "Requirement already satisfied: pyyaml in /usr/local/lib/python3.7/dist-packages (from bravado>11.0.0->cbio_py) (3.13)\n",
            "Requirement already satisfied: monotonic in /usr/local/lib/python3.7/dist-packages (from bravado>11.0.0->cbio_py) (1.6)\n",
            "Requirement already satisfied: requests>=2.17 in /usr/local/lib/python3.7/dist-packages (from bravado>11.0.0->cbio_py) (2.23.0)\n",
            "Requirement already satisfied: msgpack in /usr/local/lib/python3.7/dist-packages (from bravado>11.0.0->cbio_py) (1.0.4)\n",
            "Requirement already satisfied: six in /usr/local/lib/python3.7/dist-packages (from bravado>11.0.0->cbio_py) (1.15.0)\n",
            "Requirement already satisfied: jsonschema[format]>=2.5.1 in /usr/local/lib/python3.7/dist-packages (from bravado-core>=5.16.1->bravado>11.0.0->cbio_py) (4.3.3)\n",
            "Requirement already satisfied: swagger-spec-validator>=2.0.1 in /usr/local/lib/python3.7/dist-packages (from bravado-core>=5.16.1->bravado>11.0.0->cbio_py) (2.7.4)\n",
            "Requirement already satisfied: pytz in /usr/local/lib/python3.7/dist-packages (from bravado-core>=5.16.1->bravado>11.0.0->cbio_py) (2022.1)\n",
            "Requirement already satisfied: jsonref in /usr/local/lib/python3.7/dist-packages (from bravado-core>=5.16.1->bravado>11.0.0->cbio_py) (0.2)\n",
            "Requirement already satisfied: importlib-metadata in /usr/local/lib/python3.7/dist-packages (from jsonschema[format]>=2.5.1->bravado-core>=5.16.1->bravado>11.0.0->cbio_py) (4.12.0)\n",
            "Requirement already satisfied: attrs>=17.4.0 in /usr/local/lib/python3.7/dist-packages (from jsonschema[format]>=2.5.1->bravado-core>=5.16.1->bravado>11.0.0->cbio_py) (21.4.0)\n",
            "Requirement already satisfied: pyrsistent!=0.17.0,!=0.17.1,!=0.17.2,>=0.14.0 in /usr/local/lib/python3.7/dist-packages (from jsonschema[format]>=2.5.1->bravado-core>=5.16.1->bravado>11.0.0->cbio_py) (0.18.1)\n",
            "Requirement already satisfied: importlib-resources>=1.4.0 in /usr/local/lib/python3.7/dist-packages (from jsonschema[format]>=2.5.1->bravado-core>=5.16.1->bravado>11.0.0->cbio_py) (5.8.0)\n",
            "Requirement already satisfied: idna in /usr/local/lib/python3.7/dist-packages (from jsonschema[format]>=2.5.1->bravado-core>=5.16.1->bravado>11.0.0->cbio_py) (2.10)\n",
            "Requirement already satisfied: rfc3339-validator in /usr/local/lib/python3.7/dist-packages (from jsonschema[format]>=2.5.1->bravado-core>=5.16.1->bravado>11.0.0->cbio_py) (0.1.4)\n",
            "Requirement already satisfied: webcolors>=1.11 in /usr/local/lib/python3.7/dist-packages (from jsonschema[format]>=2.5.1->bravado-core>=5.16.1->bravado>11.0.0->cbio_py) (1.12)\n",
            "Requirement already satisfied: fqdn in /usr/local/lib/python3.7/dist-packages (from jsonschema[format]>=2.5.1->bravado-core>=5.16.1->bravado>11.0.0->cbio_py) (1.5.1)\n",
            "Requirement already satisfied: isoduration in /usr/local/lib/python3.7/dist-packages (from jsonschema[format]>=2.5.1->bravado-core>=5.16.1->bravado>11.0.0->cbio_py) (20.11.0)\n",
            "Requirement already satisfied: rfc3987 in /usr/local/lib/python3.7/dist-packages (from jsonschema[format]>=2.5.1->bravado-core>=5.16.1->bravado>11.0.0->cbio_py) (1.3.8)\n",
            "Requirement already satisfied: uri-template in /usr/local/lib/python3.7/dist-packages (from jsonschema[format]>=2.5.1->bravado-core>=5.16.1->bravado>11.0.0->cbio_py) (1.2.0)\n",
            "Requirement already satisfied: jsonpointer>1.13 in /usr/local/lib/python3.7/dist-packages (from jsonschema[format]>=2.5.1->bravado-core>=5.16.1->bravado>11.0.0->cbio_py) (2.3)\n",
            "Requirement already satisfied: zipp>=3.1.0 in /usr/local/lib/python3.7/dist-packages (from importlib-resources>=1.4.0->jsonschema[format]>=2.5.1->bravado-core>=5.16.1->bravado>11.0.0->cbio_py) (3.8.0)\n",
            "Requirement already satisfied: certifi>=2017.4.17 in /usr/local/lib/python3.7/dist-packages (from requests>=2.17->bravado>11.0.0->cbio_py) (2022.6.15)\n",
            "Requirement already satisfied: chardet<4,>=3.0.2 in /usr/local/lib/python3.7/dist-packages (from requests>=2.17->bravado>11.0.0->cbio_py) (3.0.4)\n",
            "Requirement already satisfied: urllib3!=1.25.0,!=1.25.1,<1.26,>=1.21.1 in /usr/local/lib/python3.7/dist-packages (from requests>=2.17->bravado>11.0.0->cbio_py) (1.24.3)\n",
            "Requirement already satisfied: cached-property>=1.3.0 in /usr/local/lib/python3.7/dist-packages (from fqdn->jsonschema[format]>=2.5.1->bravado-core>=5.16.1->bravado>11.0.0->cbio_py) (1.5.2)\n",
            "Requirement already satisfied: arrow>=0.15.0 in /usr/local/lib/python3.7/dist-packages (from isoduration->jsonschema[format]>=2.5.1->bravado-core>=5.16.1->bravado>11.0.0->cbio_py) (1.2.2)\n",
            "Looking in indexes: https://pypi.org/simple, https://us-python.pkg.dev/colab-wheels/public/simple/\n",
            "Requirement already satisfied: geneview in /usr/local/lib/python3.7/dist-packages (0.1.3)\n",
            "Requirement already satisfied: matplotlib in /usr/local/lib/python3.7/dist-packages (from geneview) (3.2.2)\n",
            "Requirement already satisfied: numpy in /usr/local/lib/python3.7/dist-packages (from geneview) (1.21.6)\n",
            "Requirement already satisfied: scipy in /usr/local/lib/python3.7/dist-packages (from geneview) (1.5.4)\n",
            "Requirement already satisfied: seaborn in /usr/local/lib/python3.7/dist-packages (from geneview) (0.11.2)\n",
            "Requirement already satisfied: pandas in /usr/local/lib/python3.7/dist-packages (from geneview) (1.3.5)\n",
            "Requirement already satisfied: kiwisolver>=1.0.1 in /usr/local/lib/python3.7/dist-packages (from matplotlib->geneview) (1.4.3)\n",
            "Requirement already satisfied: cycler>=0.10 in /usr/local/lib/python3.7/dist-packages (from matplotlib->geneview) (0.11.0)\n",
            "Requirement already satisfied: pyparsing!=2.0.4,!=2.1.2,!=2.1.6,>=2.0.1 in /usr/local/lib/python3.7/dist-packages (from matplotlib->geneview) (3.0.9)\n",
            "Requirement already satisfied: python-dateutil>=2.1 in /usr/local/lib/python3.7/dist-packages (from matplotlib->geneview) (2.8.2)\n",
            "Requirement already satisfied: typing-extensions in /usr/local/lib/python3.7/dist-packages (from kiwisolver>=1.0.1->matplotlib->geneview) (4.1.1)\n",
            "Requirement already satisfied: six>=1.5 in /usr/local/lib/python3.7/dist-packages (from python-dateutil>=2.1->matplotlib->geneview) (1.15.0)\n",
            "Requirement already satisfied: pytz>=2017.3 in /usr/local/lib/python3.7/dist-packages (from pandas->geneview) (2022.1)\n"
          ]
        }
      ],
      "source": [
        "!pip install bravado\n",
        "!pip install cbio_py\n",
        "!pip install geneview"
      ]
    },
    {
      "cell_type": "code",
      "execution_count": null,
      "metadata": {
        "id": "MeYC498jLAQ3"
      },
      "outputs": [],
      "source": [
        "import numpy as np\n",
        "import pandas as pd\n",
        "import scipy\n",
        "import sklearn\n",
        "import math\n",
        "import seaborn as sns\n",
        "from cbio_py import cbio_mod as cb\n",
        "import matplotlib.pyplot as plt"
      ]
    },
    {
      "cell_type": "code",
      "execution_count": null,
      "metadata": {
        "colab": {
          "base_uri": "https://localhost:8080/"
        },
        "id": "5gM-kM3LLLsf",
        "outputId": "d94fdcf6-0638-4e9f-e963-53492255694d"
      },
      "outputs": [
        {
          "output_type": "execute_result",
          "data": {
            "text/plain": [
              "['Cancer_Types',\n",
              " 'Clinical_Attributes',\n",
              " 'Clinical_Data',\n",
              " 'Copy_Number_Segments',\n",
              " 'Discrete_Copy_Number_Alterations',\n",
              " 'Gene_Panel_Data',\n",
              " 'Gene_Panels',\n",
              " 'Generic_Assay_Data',\n",
              " 'Generic_Assays',\n",
              " 'Genes',\n",
              " 'Info',\n",
              " 'Molecular_Data',\n",
              " 'Molecular_Profiles',\n",
              " 'Mutations',\n",
              " 'Patients',\n",
              " 'Sample_Lists',\n",
              " 'Samples',\n",
              " 'Server_running_status',\n",
              " 'Studies',\n",
              " 'Treatments']"
            ]
          },
          "metadata": {},
          "execution_count": 161
        }
      ],
      "source": [
        "from bravado.client import SwaggerClient\n",
        "cbioportal = SwaggerClient.from_url('https://www.cbioportal.org/api/api-docs',\n",
        "                                    config={\"validate_requests\":False,\"validate_responses\":False,\"validate_swagger_spec\": False})\n",
        "dir(cbioportal) \n",
        "# https://docs.cbioportal.org/web-api-and-clients/\n",
        "# https://pypi.org/project/cbio-py/                                   "
      ]
    },
    {
      "cell_type": "code",
      "execution_count": null,
      "metadata": {
        "id": "p1iBnHvSLOCv"
      },
      "outputs": [],
      "source": [
        "def create_patient_df(data):\n",
        "    df = pd.DataFrame(columns=('chromosome', 'start','end', 'copyNum'))\n",
        "    for segment in data:\n",
        "        chromosome = segment['chromosome']\n",
        "        start = segment['start']\n",
        "        end = segment['end']\n",
        "        segmentMean = segment['segmentMean']\n",
        "        copyNum = 2**(segmentMean+1)\n",
        "        df = df.append({'chromosome': chromosome, 'start': start, 'end':end, 'copyNum':copyNum}, ignore_index=True)\n",
        "    return df\n"
      ]
    },
    {
      "cell_type": "code",
      "execution_count": null,
      "metadata": {
        "id": "-g9d7pn5Qalw"
      },
      "outputs": [],
      "source": [
        "def create_all_chr_heatmap(data):\n",
        "  df = create_patient_df(data)\n",
        "  df_new = df.groupby(['chromosome']).mean()\n",
        "  new_index=[int(x) for x in df_new.index]\n",
        "  df_new['chromosome_num']=new_index\n",
        "  df_new = df_new.sort_values(['chromosome_num'])\n",
        "  df_new=df_new.drop(columns=['chromosome_num'])\n",
        "  df_final = df_new.transpose()\n",
        "  sns.set(rc={\"figure.figsize\":(20, 10)}) #width=3, #height=4\n",
        "  sns.heatmap(df_final, cmap='seismic', square=True, cbar_kws={'orientation': 'horizontal'})\n",
        "\n",
        "\n"
      ]
    },
    {
      "cell_type": "code",
      "execution_count": null,
      "metadata": {
        "id": "--mCYxMLLVdt"
      },
      "outputs": [],
      "source": [
        "studyId = 'acc_tcga'\n",
        "#cb.getAllSamplesInStudy(studyId)\n",
        "sampleId = 'TCGA-OR-A5J1-01'\n",
        "data = cb.getCopyNumberSegmentsInSampleInStudy(studyId, sampleId, return_type = 'dict')"
      ]
    },
    {
      "cell_type": "code",
      "execution_count": null,
      "metadata": {
        "colab": {
          "base_uri": "https://localhost:8080/",
          "height": 238
        },
        "id": "b0-aQDKfN0VU",
        "outputId": "a332a54a-b952-4f96-ee7e-d8d392a34830"
      },
      "outputs": [
        {
          "output_type": "display_data",
          "data": {
            "text/plain": [
              "<Figure size 1440x720 with 2 Axes>"
            ],
            "image/png": "[encoded data removed]"
          },
          "metadata": {}
        }
      ],
      "source": [
        "create_all_chr_heatmap(data)"
      ]
    },
    {
      "cell_type": "code",
      "execution_count": null,
      "metadata": {
        "id": "b2XiBzXLcCB2"
      },
      "outputs": [],
      "source": [
        "def create_single_chr_heatmap(data, chr, bin_size=2500000):\n",
        "  df = create_patient_df(data)\n",
        "  chr_locs = np.where(df['chromosome'] == str(chr))[0]\n",
        "  starts = np.array(df['start'][chr_locs[0] : chr_locs[-1]])\n",
        "  ends = np.array(df['end'][chr_locs[0] : chr_locs[-1]])\n",
        "  copy_nums = np.array(df['copyNum'][chr_locs[0] : chr_locs[-1]])\n",
        "  chr_size = ends[len(ends) - 1]\n",
        "  num_bins = int(chr_size/ bin_size) + 1\n",
        "  bins = np.zeros(num_bins)\n",
        "\n",
        "  for i in range(num_bins):\n",
        "    temp = np.where((starts < (i*bin_size + bin_size))&(starts > (i*bin_size)))[0]\n",
        "    for ele in temp:\n",
        "      bins[i] += np.log2(copy_nums[ele] - 1)\n",
        "  sns.set(rc={\"figure.figsize\":(20, 10)}) #width=3, #height=4\n",
        "  sns.heatmap([bins], cmap='seismic', square=True, cbar_kws={'orientation': 'horizontal'}, center=0.0)\n",
        "\n",
        "\n"
      ]
    },
    {
      "cell_type": "code",
      "execution_count": null,
      "metadata": {
        "colab": {
          "base_uri": "https://localhost:8080/",
          "height": 239
        },
        "id": "WDH52LEeeNO9",
        "outputId": "1e142ccd-8205-4bb9-a0c2-20c5264781cc"
      },
      "outputs": [
        {
          "output_type": "stream",
          "name": "stderr",
          "text": [
            "/usr/local/lib/python3.7/dist-packages/ipykernel_launcher.py:14: RuntimeWarning: invalid value encountered in log2\n",
            "  \n"
          ]
        },
        {
          "output_type": "display_data",
          "data": {
            "text/plain": [
              "<Figure size 1440x720 with 2 Axes>"
            ],
            "image/png": "[encoded data removed]"
          },
          "metadata": {}
        }
      ],
      "source": [
        "create_single_chr_heatmap(data, 5)"
      ]
    },
    {
      "cell_type": "code",
      "execution_count": null,
      "metadata": {
        "colab": {
          "base_uri": "https://localhost:8080/",
          "height": 255
        },
        "id": "Svd-IExaoC4k",
        "outputId": "6e26e8dd-8870-4efa-c451-ee1973f15dd3"
      },
      "outputs": [
        {
          "output_type": "stream",
          "name": "stderr",
          "text": [
            "/usr/local/lib/python3.7/dist-packages/ipykernel_launcher.py:14: RuntimeWarning: invalid value encountered in log2\n",
            "  \n"
          ]
        },
        {
          "output_type": "display_data",
          "data": {
            "text/plain": [
              "<Figure size 1440x720 with 2 Axes>"
            ],
            "image/png": "[encoded data removed]"
          },
          "metadata": {}
        }
      ],
      "source": [
        "create_single_chr_heatmap(data, 5, bin_size=5000000)"
      ]
    },
    {
      "cell_type": "code",
      "execution_count": null,
      "metadata": {
        "id": "k0VkWK35g-39",
        "colab": {
          "base_uri": "https://localhost:8080/"
        },
        "outputId": "8851cbce-4865-46da-e3f3-97abbf2c2fb6"
      },
      "outputs": [
        {
          "output_type": "execute_result",
          "data": {
            "text/plain": [
              "3218610"
            ]
          },
          "metadata": {},
          "execution_count": 141
        }
      ],
      "source": [
        "df = create_patient_df(data)\n",
        "np.array(df['start'][0:5])[0]"
      ]
    },
    {
      "cell_type": "code",
      "source": [
        "def create_single_chr_bins(df, chr, num_bins=30):\n",
        "  chr_locs = np.where(df['chromosome'] == str(chr))[0]\n",
        "  starts = np.array(df['start'][chr_locs[0] : chr_locs[-1]])\n",
        "  if len(chr_locs) > 1:\n",
        "    ends = np.array(df['end'][chr_locs[0] : chr_locs[-1]])\n",
        "  else:\n",
        "    ends = np.array([df['end'][chr_locs[0]]])\n",
        "  copy_nums = np.array(df['copyNum'][chr_locs[0] : chr_locs[-1]])\n",
        "  chr_size = ends[len(ends) - 1]\n",
        "  bin_size = int(chr_size / num_bins)\n",
        "  bins = []\n",
        "  for i in range(num_bins):\n",
        "    locations = np.where((starts < (i*bin_size + bin_size))&(starts > (i*bin_size)))[0]\n",
        "    bin_list = []\n",
        "    for j in range(len(locations)):\n",
        "      element = locations[j]\n",
        "      if (copy_nums[element] - 1) > 0:\n",
        "        bin_list.append(np.log2(copy_nums[element] - 1))\n",
        "      else:\n",
        "        bin_list.append(0)\n",
        "    if len(bin_list) > 0:\n",
        "      bins.append(np.mean(np.array(bin_list)))\n",
        "    else:\n",
        "      bins.append(0)\n",
        "  return bins\n",
        "\n",
        "\n",
        "\n",
        "def compare_chrom_tracks(data, chr, num_bins = 80):\n",
        "  all_bins = []\n",
        "  for dat in data:\n",
        "    bins = create_single_chr_bins(dat, chr)\n",
        "    all_bins.append(bins)\n",
        "  avg = np.mean(np)\n",
        "  sns.set(rc={\"figure.figsize\":(20, 20)}) #width=3, #height=4\n",
        "  sns.heatmap(all_bins, cmap='seismic', square=True, cbar_kws={'orientation': 'horizontal'}, center=0.0)\n",
        "  plt.title('Chromosome ' + str(chr))\n",
        "  #sns.heatmap([bins2], cmap='seismic', square=True, cbar_kws={'orientation': 'horizontal'}, center=0.0)\n",
        "\n",
        "  return np.corrcoef(all_bins)"
      ],
      "metadata": {
        "id": "HBBXMEw8y-Rl"
      },
      "execution_count": null,
      "outputs": []
    },
    {
      "cell_type": "code",
      "source": [
        "def make_all_chr_df(studyId, sampleId):\n",
        "  data = cb.getCopyNumberSegmentsInSampleInStudy(studyId, sampleId, return_type = 'dict')\n",
        "  df = create_patient_df(data)\n",
        "  all_chr = []\n",
        "  for i in range(23):\n",
        "    all_chr.extend(create_single_chr_bins(df, i+1, num_bins=10))\n",
        "    \n",
        "\n",
        "\n"
      ],
      "metadata": {
        "id": "TLDuWt9AAp0Z"
      },
      "execution_count": null,
      "outputs": []
    },
    {
      "cell_type": "code",
      "source": [
        "data1 = cb.getCopyNumberSegmentsInSampleInStudy('acc_tcga', 'TCGA-OR-A5J1-01', return_type = 'dict')\n",
        "all_chr = []\n",
        "df = create_patient_df(data1)\n",
        "for i in range(23):\n",
        "  all_chr.extend(create_single_chr_bins(df, i+1, num_bins=10))\n",
        "\n"
      ],
      "metadata": {
        "colab": {
          "base_uri": "https://localhost:8080/"
        },
        "id": "X867J2J77qiA",
        "outputId": "7ac650d4-1be5-4148-9107-0df56d520504"
      },
      "execution_count": null,
      "outputs": [
        {
          "output_type": "stream",
          "name": "stdout",
          "text": [
            "[77109240]\n",
            "[62219837]\n",
            "[47678774]\n"
          ]
        }
      ]
    },
    {
      "cell_type": "code",
      "source": [
        "sns.set(rc={\"figure.figsize\":(20, 20)}) #width=3, #height=4\n",
        "sns.heatmap([all_chr], cmap='seismic', square=True, cbar_kws={'orientation': 'horizontal'}, center=0.0)"
      ],
      "metadata": {
        "colab": {
          "base_uri": "https://localhost:8080/",
          "height": 293
        },
        "id": "73wzzPYx8Ule",
        "outputId": "1d960533-9cd8-405c-d4f6-7c652699f5f5"
      },
      "execution_count": null,
      "outputs": [
        {
          "output_type": "execute_result",
          "data": {
            "text/plain": [
              "<matplotlib.axes._subplots.AxesSubplot at 0x7f8aa7c6d9d0>"
            ]
          },
          "metadata": {},
          "execution_count": 202
        },
        {
          "output_type": "display_data",
          "data": {
            "text/plain": [
              "<Figure size 1440x1440 with 2 Axes>"
            ],
            "image/png": "[encoded data removed]"
          },
          "metadata": {}
        }
      ]
    },
    {
      "cell_type": "code",
      "execution_count": null,
      "metadata": {
        "id": "1Kxr25onl-zB",
        "colab": {
          "base_uri": "https://localhost:8080/",
          "height": 396
        },
        "outputId": "d424e487-089f-4dd3-f546-a196182747db"
      },
      "outputs": [
        {
          "output_type": "execute_result",
          "data": {
            "text/plain": [
              "array([[ 1.       , -0.0087851],\n",
              "       [-0.0087851,  1.       ]])"
            ]
          },
          "metadata": {},
          "execution_count": 192
        },
        {
          "output_type": "display_data",
          "data": {
            "text/plain": [
              "<Figure size 1440x1440 with 2 Axes>"
            ],
            "image/png": "[encoded data removed]"
          },
          "metadata": {}
        }
      ],
      "source": [
        "data1 = cb.getCopyNumberSegmentsInSampleInStudy('acc_tcga', 'TCGA-OR-A5J1-01', return_type = 'dict')\n",
        "data2 = cb.getCopyNumberSegmentsInSampleInStudy('acc_tcga', 'TCGA-PK-A5HC-01', return_type = 'dict')\n",
        "data = [create_patient_df(data1), create_patient_df(data2)]\n",
        "compare_chrom_tracks(data, 8)"
      ]
    }
  ],
  "metadata": {
    "colab": {
      "provenance": []
    },
    "kernelspec": {
      "display_name": "Python 3",
      "name": "python3"
    },
    "language_info": {
      "name": "python"
    }
  },
  "nbformat": 4,
  "nbformat_minor": 0
}